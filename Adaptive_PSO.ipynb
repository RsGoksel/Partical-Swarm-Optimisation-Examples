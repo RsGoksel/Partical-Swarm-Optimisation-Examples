{
 "cells": [
  {
   "cell_type": "markdown",
   "id": "0d408af3-b685-4ba1-ab5f-8efa394900ed",
   "metadata": {},
   "source": [
    "Adaptive PSO "
   ]
  },
  {
   "cell_type": "markdown",
   "id": "eba5f86e-0576-4ab0-acfc-7f91c55b2dd3",
   "metadata": {},
   "source": [
    "We will optimize The Rastrigin function. \n",
    "Rast Rigins's landscape can be challenging. So an adaptive PSO that adjusts parameters during optimization might be beneficial. \n",
    "Adaptive PSO can dynamically tune parameters like inertia weight and social coefficients."
   ]
  },
  {
   "cell_type": "markdown",
   "id": "05601d1a-2979-43aa-83ce-b5ac6870509e",
   "metadata": {},
   "source": [
    "Function to optimize: Rastrigin"
   ]
  },
  {
   "cell_type": "code",
   "execution_count": null,
   "id": "77cb81b4-25f7-4ce8-a3ec-6bf3463f8e0a",
   "metadata": {},
   "outputs": [],
   "source": [
    "import numpy as np\n",
    "\n",
    "def rastrigin(x):\n",
    "    return 10 * len(x) + np.sum(x**2 - 10 * np.cos(2 * np.pi * x))\n",
    "\n",
    "def adaptive_pso_optimizer(num_particles, num_dimensions, max_iterations):\n",
    "    particles = np.random.uniform(-5.12, 5.12, (num_particles, num_dimensions))\n",
    "    velocities = np.random.uniform(-1, 1, (num_particles, num_dimensions))\n",
    "    personal_best_positions = particles.copy()\n",
    "    personal_best_values = np.array([rastrigin(x) for x in particles])\n",
    "\n",
    "    global_best_index = np.argmin(personal_best_values)\n",
    "    global_best_position = personal_best_positions[global_best_index]\n",
    "    global_best_value = personal_best_values[global_best_index]\n",
    "\n",
    "    # Adaptive PSO parameters\n",
    "    initial_w = 0.9\n",
    "    min_w = 0.2\n",
    "    max_w = 0.9\n",
    "    c1 = 1.5\n",
    "    c2 = 1.5\n",
    "\n",
    "    for iteration in range(max_iterations):\n",
    "        w = max_w - (max_w - min_w) * (iteration / max_iterations)  # Linearly decreasing inertia weight. This is the key differences between\n",
    "        #Adaptive PSO and Basic PSO\n",
    "\n",
    "        for i in range(num_particles):\n",
    "            r1 = np.random.rand()\n",
    "            r2 = np.random.rand()\n",
    "\n",
    "            cognitive_component = c1 * r1 * (personal_best_positions[i] - particles[i])\n",
    "            social_component = c2 * r2 * (global_best_position - particles[i])\n",
    "            velocities[i] = w * velocities[i] + cognitive_component + social_component\n",
    "\n",
    "            particles[i] += velocities[i]\n",
    "            particles[i] = np.clip(particles[i], -5.12, 5.12)\n",
    "\n",
    "            new_value = rastrigin(particles[i])\n",
    "            if new_value < personal_best_values[i]:\n",
    "                personal_best_values[i] = new_value\n",
    "                personal_best_positions[i] = particles[i]\n",
    "\n",
    "                if new_value < global_best_value:\n",
    "                    global_best_value = new_value\n",
    "                    global_best_position = particles[i]\n",
    "\n",
    "        print(f\"Iteration {iteration+1}: Global Best Value = {global_best_value:.6f}\")\n",
    "\n",
    "    print(\"\\nOptimization complete.\")\n",
    "    print(f\"Global Best Position: {global_best_position}\")\n",
    "    print(f\"Global Best Value: {global_best_value:.6f}\")\n",
    "\n",
    "# PSO parameters\n",
    "num_particles = 50\n",
    "num_dimensions = 3\n",
    "max_iterations = 100\n",
    "\n",
    "adaptive_pso_optimizer(num_particles, num_dimensions, max_iterations)\n"
   ]
  },
  {
   "cell_type": "code",
   "execution_count": null,
   "id": "f34ac480-b031-49f4-8dda-921140631e8a",
   "metadata": {},
   "outputs": [],
   "source": []
  },
  {
   "cell_type": "code",
   "execution_count": null,
   "id": "ec42cc7a-60a0-44e0-b57a-ff716995dab9",
   "metadata": {},
   "outputs": [],
   "source": []
  },
  {
   "cell_type": "code",
   "execution_count": null,
   "id": "2bcf5891-1b13-4f8d-a44d-4d00313b49f4",
   "metadata": {},
   "outputs": [],
   "source": []
  }
 ],
 "metadata": {
  "kernelspec": {
   "display_name": "mech",
   "language": "python",
   "name": "mech"
  },
  "language_info": {
   "codemirror_mode": {
    "name": "ipython",
    "version": 3
   },
   "file_extension": ".py",
   "mimetype": "text/x-python",
   "name": "python",
   "nbconvert_exporter": "python",
   "pygments_lexer": "ipython3",
   "version": "3.9.0"
  }
 },
 "nbformat": 4,
 "nbformat_minor": 5
}
